{
 "cells": [
  {
   "cell_type": "markdown",
   "metadata": {},
   "source": [
    "# Uso de pandas y extracción de datos\n",
    "En este documento se muestra cómo operar con las librerías de python para la explotación de datos.\n",
    "Para comenzar, se importará la librería de pandas con el comando _import pandas as pd_"
   ]
  },
  {
   "cell_type": "code",
   "execution_count": 1,
   "metadata": {},
   "outputs": [],
   "source": [
    "import pandas as pd"
   ]
  },
  {
   "cell_type": "markdown",
   "metadata": {},
   "source": [
    "## Lectura del archivo de datos\n",
    "Se parte del fichero de datos ofrecido por bicicoruña para poder hacer el estudio de los datos que contiene. \n",
    "\n",
    "El fichero que vamos a utilizar es un csv que utiliza como delimitador de campo el punto y coma (;), por tanto se especificará en la función de lectura del documento.\n",
    "\n",
    "Con la función head, se obtienen las 5 primeras líneas del Dataframe, y nos ayuda a ver cómo está estructurada la inforamción en el documento."
   ]
  },
  {
   "cell_type": "code",
   "execution_count": 2,
   "metadata": {},
   "outputs": [
    {
     "data": {
      "text/html": [
       "<div>\n",
       "<style>\n",
       "    .dataframe thead tr:only-child th {\n",
       "        text-align: right;\n",
       "    }\n",
       "\n",
       "    .dataframe thead th {\n",
       "        text-align: left;\n",
       "    }\n",
       "\n",
       "    .dataframe tbody tr th {\n",
       "        vertical-align: top;\n",
       "    }\n",
       "</style>\n",
       "<table border=\"1\" class=\"dataframe\">\n",
       "  <thead>\n",
       "    <tr style=\"text-align: right;\">\n",
       "      <th></th>\n",
       "      <th>USUARIO</th>\n",
       "      <th>SEXO</th>\n",
       "      <th>FECHA_NACIMIENTO</th>\n",
       "      <th>ORIGEN</th>\n",
       "      <th>ID_ORIGEN</th>\n",
       "      <th>INICIO_TRAYECTO</th>\n",
       "      <th>DESTINO</th>\n",
       "      <th>ID_DESTINO</th>\n",
       "      <th>FIN_TRAYECTO</th>\n",
       "    </tr>\n",
       "  </thead>\n",
       "  <tbody>\n",
       "    <tr>\n",
       "      <th>0</th>\n",
       "      <td>8244</td>\n",
       "      <td>0</td>\n",
       "      <td>1960</td>\n",
       "      <td>Estación Autobuses</td>\n",
       "      <td>10</td>\n",
       "      <td>2015-07-16 07:30:35.243</td>\n",
       "      <td>Obelisco</td>\n",
       "      <td>7</td>\n",
       "      <td>2015-07-16 07:38:55.310</td>\n",
       "    </tr>\n",
       "    <tr>\n",
       "      <th>1</th>\n",
       "      <td>11323</td>\n",
       "      <td>1</td>\n",
       "      <td>1961</td>\n",
       "      <td>Los Rosales</td>\n",
       "      <td>16</td>\n",
       "      <td>2015-07-16 07:31:19.293</td>\n",
       "      <td>Plz Pontevedra</td>\n",
       "      <td>6</td>\n",
       "      <td>2015-07-16 07:49:17.063</td>\n",
       "    </tr>\n",
       "    <tr>\n",
       "      <th>2</th>\n",
       "      <td>8665</td>\n",
       "      <td>0</td>\n",
       "      <td>1968</td>\n",
       "      <td>Conchiñas</td>\n",
       "      <td>14</td>\n",
       "      <td>2015-07-16 07:31:32.523</td>\n",
       "      <td>Plz. de España</td>\n",
       "      <td>20</td>\n",
       "      <td>2015-07-16 07:43:55.890</td>\n",
       "    </tr>\n",
       "    <tr>\n",
       "      <th>3</th>\n",
       "      <td>8860</td>\n",
       "      <td>0</td>\n",
       "      <td>1965</td>\n",
       "      <td>Tabacos</td>\n",
       "      <td>18</td>\n",
       "      <td>2015-07-16 07:32:48.977</td>\n",
       "      <td>Obelisco</td>\n",
       "      <td>7</td>\n",
       "      <td>2015-07-16 07:39:05.870</td>\n",
       "    </tr>\n",
       "    <tr>\n",
       "      <th>4</th>\n",
       "      <td>9149</td>\n",
       "      <td>0</td>\n",
       "      <td>1982</td>\n",
       "      <td>Casa del Agua</td>\n",
       "      <td>9</td>\n",
       "      <td>2015-07-16 07:33:48.473</td>\n",
       "      <td>Obelisco</td>\n",
       "      <td>7</td>\n",
       "      <td>2015-07-16 07:39:38.990</td>\n",
       "    </tr>\n",
       "  </tbody>\n",
       "</table>\n",
       "</div>"
      ],
      "text/plain": [
       "   USUARIO SEXO  FECHA_NACIMIENTO              ORIGEN ID_ORIGEN  \\\n",
       "0     8244    0              1960  Estación Autobuses        10   \n",
       "1    11323    1              1961         Los Rosales        16   \n",
       "2     8665    0              1968           Conchiñas        14   \n",
       "3     8860    0              1965             Tabacos        18   \n",
       "4     9149    0              1982       Casa del Agua         9   \n",
       "\n",
       "           INICIO_TRAYECTO         DESTINO ID_DESTINO             FIN_TRAYECTO  \n",
       "0  2015-07-16 07:30:35.243        Obelisco          7  2015-07-16 07:38:55.310  \n",
       "1  2015-07-16 07:31:19.293  Plz Pontevedra          6  2015-07-16 07:49:17.063  \n",
       "2  2015-07-16 07:31:32.523  Plz. de España         20  2015-07-16 07:43:55.890  \n",
       "3  2015-07-16 07:32:48.977        Obelisco          7  2015-07-16 07:39:05.870  \n",
       "4  2015-07-16 07:33:48.473        Obelisco          7  2015-07-16 07:39:38.990  "
      ]
     },
     "execution_count": 2,
     "metadata": {},
     "output_type": "execute_result"
    }
   ],
   "source": [
    "bike_raw_data = pd.read_csv(\"../data/hackatino_2017_bicicoruna.csv\",delimiter=\";\")\n",
    "bike_raw_data.head()"
   ]
  },
  {
   "cell_type": "markdown",
   "metadata": {},
   "source": [
    "## Categorización de una columna\n",
    "En el caso de estudio, vemos que los usuarios se identifican con id numérico. Este id es interpretado en primera instancia por la librería de pandas como valores del tipo ratio. Por eso será necesario crear una nueva columna o Serie que indique que los valores que utiliza son categorizables.\n",
    "\n",
    "Con la nueva columna añadida a nuestro dataframe, podemos utilizar la función describe sobre esta serie y ver cuántos usuarios únicos hay, y cuál es el usuario más activo según los datos aportados."
   ]
  },
  {
   "cell_type": "code",
   "execution_count": 3,
   "metadata": {},
   "outputs": [
    {
     "data": {
      "text/plain": [
       "count     187099\n",
       "unique      3801\n",
       "top        10188\n",
       "freq        1000\n",
       "Name: USUARIO_CAT, dtype: int64"
      ]
     },
     "execution_count": 3,
     "metadata": {},
     "output_type": "execute_result"
    }
   ],
   "source": [
    "bike_raw_data['USUARIO_CAT'] = bike_raw_data['USUARIO'].astype('category')\n",
    "bike_raw_data['USUARIO_CAT'].describe()"
   ]
  },
  {
   "cell_type": "markdown",
   "metadata": {},
   "source": [
    "## Estación de salida más utilizada"
   ]
  },
  {
   "cell_type": "code",
   "execution_count": 4,
   "metadata": {},
   "outputs": [
    {
     "data": {
      "text/plain": [
       "count            187099\n",
       "unique               23\n",
       "top       Casa del Agua\n",
       "freq              20513\n",
       "Name: ORIGEN, dtype: object"
      ]
     },
     "execution_count": 4,
     "metadata": {},
     "output_type": "execute_result"
    }
   ],
   "source": [
    "bike_raw_data['ORIGEN'].describe()"
   ]
  },
  {
   "cell_type": "markdown",
   "metadata": {},
   "source": [
    "## Estación de destino más utilizada"
   ]
  },
  {
   "cell_type": "code",
   "execution_count": 5,
   "metadata": {},
   "outputs": [
    {
     "data": {
      "text/plain": [
       "count             187099\n",
       "unique                41\n",
       "top       Plz Pontevedra\n",
       "freq               28693\n",
       "Name: DESTINO, dtype: object"
      ]
     },
     "execution_count": 5,
     "metadata": {},
     "output_type": "execute_result"
    }
   ],
   "source": [
    "bike_raw_data['DESTINO'].describe()"
   ]
  },
  {
   "cell_type": "markdown",
   "metadata": {},
   "source": [
    "## División de los usuarios por sexo\n",
    "En el siguiente ejemplo se van a dividir en dos subconjuntos los datos de los usuarios y así ver si el número de usuarios hombres es mayor o menor respecto al de usuarias."
   ]
  },
  {
   "cell_type": "code",
   "execution_count": 17,
   "metadata": {},
   "outputs": [
    {
     "name": "stdout",
     "output_type": "stream",
     "text": [
      "hombres: 122985, mujeres: 64095\n"
     ]
    }
   ],
   "source": [
    "woman_serie = bike_raw_data['SEXO'] == '1'\n",
    "man_serie = bike_raw_data['SEXO'] == '0'\n",
    "print ('hombres: {}, mujeres: {}'.format(man_serie.sum(),woman_serie.sum()))"
   ]
  }
 ],
 "metadata": {
  "kernelspec": {
   "display_name": "Python 3",
   "language": "python",
   "name": "python3"
  },
  "language_info": {
   "codemirror_mode": {
    "name": "ipython",
    "version": 3
   },
   "file_extension": ".py",
   "mimetype": "text/x-python",
   "name": "python",
   "nbconvert_exporter": "python",
   "pygments_lexer": "ipython3",
   "version": "3.6.3"
  }
 },
 "nbformat": 4,
 "nbformat_minor": 2
}
